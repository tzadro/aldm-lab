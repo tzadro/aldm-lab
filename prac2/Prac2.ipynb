{
 "cells": [
  {
   "cell_type": "markdown",
   "metadata": {
    "collapsed": true
   },
   "source": [
    "Username: u155182"
   ]
  },
  {
   "cell_type": "markdown",
   "metadata": {
    "collapsed": true
   },
   "source": [
    "### Loading packages\n",
    "Mostly used sklearn library for ML algorithms"
   ]
  },
  {
   "cell_type": "code",
   "execution_count": 1,
   "metadata": {
    "collapsed": false
   },
   "outputs": [],
   "source": [
    "import arff\n",
    "import numpy as np\n",
    "import matplotlib.pyplot as plt\n",
    "from sklearn.preprocessing import CategoricalEncoder\n",
    "from sklearn.preprocessing import normalize\n",
    "from sklearn.decomposition import PCA\n",
    "from sklearn.model_selection import KFold\n",
    "from sklearn.metrics.classification import accuracy_score\n",
    "from sklearn.linear_model import LogisticRegression\n",
    "from sklearn.neighbors import KNeighborsClassifier\n",
    "from sklearn.tree import DecisionTreeClassifier"
   ]
  },
  {
   "cell_type": "markdown",
   "metadata": {},
   "source": [
    "### Loading data\n",
    "Here I loaded data from .arff file and displayed existing relations."
   ]
  },
  {
   "cell_type": "code",
   "execution_count": 2,
   "metadata": {
    "collapsed": false
   },
   "outputs": [
    {
     "name": "stdout",
     "output_type": "stream",
     "text": [
      "       age : NUMERIC\n",
      "       job : ['unemployed', 'services', 'management', 'blue-collar', 'self-employed', 'technician', 'entrepreneur', 'admin.', 'student', 'housemaid', 'retired', 'unknown']\n",
      "   marital : ['married', 'single', 'divorced']\n",
      " education : ['primary', 'secondary', 'tertiary', 'unknown']\n",
      "   default : ['yes', 'no']\n",
      "   balance : NUMERIC\n",
      "   housing : ['yes', 'no']\n",
      "      loan : ['yes', 'no']\n",
      "   contact : ['cellular', 'telephone', 'unknown']\n",
      "       day : NUMERIC\n",
      "     month : ['jan', 'feb', 'mar', 'apr', 'may', 'jun', 'jul', 'aug', 'oct', 'sep', 'nov', 'dec']\n",
      "  duration : NUMERIC\n",
      "  campaign : NUMERIC\n",
      "     pdays : NUMERIC\n",
      "  previous : NUMERIC\n",
      "  poutcome : ['success', 'failure', 'unknown', 'other']\n"
     ]
    }
   ],
   "source": [
    "dataset = arff.load(open('bank.arff', 'r'))\n",
    "data = np.array(dataset['data'])\n",
    "\n",
    "X = data[:,0:-1]\n",
    "y = data[:,-1]\n",
    "\n",
    "for name, relation in dataset['attributes'][0:-1]:\n",
    "    print(\"%10s : %s\" % (name, relation))"
   ]
  },
  {
   "cell_type": "markdown",
   "metadata": {},
   "source": [
    "plus added data from 5th question:"
   ]
  },
  {
   "cell_type": "code",
   "execution_count": 3,
   "metadata": {
    "collapsed": false
   },
   "outputs": [],
   "source": [
    "X_q = np.array([['66', 'retired', 'married', 'primary', 'no', '206', 'no', 'no', 'cellular', '9', 'feb', '479', '1', '-1', '0', 'unknown'],\n",
    "                ['54', 'technician', 'married', 'tertiary', 'no', '876', 'no', 'no', 'cellular', '27', 'oct', '269', '3', '541', '3', 'success']])"
   ]
  },
  {
   "cell_type": "markdown",
   "metadata": {},
   "source": [
    "### Replacing nominal relations\n",
    "To use this data we must replace nominal relations. We can encode labels with value between 0 and n_classes-1 or add n_classes dummy values and remove original column. Here we used second option, replaced nominal columns with onehot versions. I used this option because the first one would imply some categories were closer then others, for example encoded value 5 would be \"closer\" to encoded category 4 than 1. Downside of one-hot option is we will greatly increase number of features, but we can later use PCA to reduce number of features, or just keep the most informative ones."
   ]
  },
  {
   "cell_type": "code",
   "execution_count": 4,
   "metadata": {
    "collapsed": false
   },
   "outputs": [
    {
     "name": "stdout",
     "output_type": "stream",
     "text": [
      "Num features: 51\n",
      "['age', 'admin.', 'blue-collar', 'entrepreneur', 'housemaid', 'management', 'retired', 'self-employed', 'services', 'student', 'technician', 'unemployed', 'unknown', 'divorced', 'married', 'single', 'primary', 'secondary', 'tertiary', 'unknown', 'no', 'yes', 'balance', 'no', 'yes', 'no', 'yes', 'cellular', 'telephone', 'unknown', 'day', 'apr', 'aug', 'dec', 'feb', 'jan', 'jul', 'jun', 'mar', 'may', 'nov', 'oct', 'sep', 'duration', 'campaign', 'pdays', 'previous', 'failure', 'other', 'success', 'unknown']\n"
     ]
    }
   ],
   "source": [
    "enc = CategoricalEncoder(encoding='onehot-dense')\n",
    "\n",
    "X_2 = np.array(X[:,0].reshape(-1,1))\n",
    "Xq_2 = np.array(X_q[:,0].reshape(-1,1))\n",
    "attributes = [dataset['attributes'][0][0]]\n",
    "\n",
    "for i, (name, relation) in enumerate(dataset['attributes'][1:-1]):\n",
    "    if relation == 'NUMERIC':\n",
    "        X_2 = np.hstack((X_2, X[:,i + 1].reshape(-1,1)))\n",
    "        Xq_2 = np.hstack((Xq_2, X_q[:,i + 1].reshape(-1,1)))\n",
    "        attributes.append(name)\n",
    "        continue\n",
    "    \n",
    "    X_2 = np.hstack((X_2, enc.fit_transform(X[:,i + 1].reshape(-1,1))))\n",
    "    Xq_2 = np.hstack((Xq_2, enc.transform(X_q[:,i + 1].reshape(-1,1))))\n",
    "    \n",
    "    for category in enc.categories_[0]:\n",
    "        attributes.append(category)\n",
    "        \n",
    "X = X_2.astype(float)\n",
    "X_q = Xq_2.astype(float)\n",
    "\n",
    "print('Num features: %d' % len(attributes))\n",
    "print(attributes)"
   ]
  },
  {
   "cell_type": "markdown",
   "metadata": {},
   "source": [
    "We now have 51 features, for example feature entrepreneur can get value 0 or 1, 0 meaning persion is not entrepreneur and 1 meaning he is."
   ]
  },
  {
   "cell_type": "markdown",
   "metadata": {},
   "source": [
    "### Most informative features\n",
    "Before we use PCA to remove some features we will see which features are considered most informative when we use Logistic Regression classifier."
   ]
  },
  {
   "cell_type": "code",
   "execution_count": 5,
   "metadata": {
    "collapsed": false
   },
   "outputs": [
    {
     "name": "stdout",
     "output_type": "stream",
     "text": [
      "\t-1.3268\tjan            \t\t1.6847\tmar            \n",
      "\t-1.1013\tjul            \t\t1.5177\tsuccess        \n",
      "\t-0.9956\tunknown        \t\t1.3976\toct            \n",
      "\t-0.9416\tunknown        \t\t0.9417\tsep            \n",
      "\t-0.9127\tnov            \t\t0.8474\tretired        \n",
      "\t-0.9093\tmay            \t\t0.6353\tstudent        \n",
      "\t-0.9053\tunemployed     \t\t0.4341\ttelephone      \n",
      "\t-0.5965\tfailure        \t\t0.4042\tunknown        \n",
      "\t-0.4976\tyes            \t\t0.3626\tjun            \n",
      "\t-0.4155\tno             \t\t0.3164\tcellular       \n",
      "\t-0.3764\tservices       \t\t0.3065\tno             \n",
      "\t-0.3532\taug            \t\t0.2244\tyes            \n",
      "\t-0.3514\tblue-collar    \t\t0.1881\ttertiary       \n",
      "\t-0.3511\tunknown        \t\t0.1507\tadmin.         \n",
      "\t-0.3219\tself-employed  \t\t0.1297\tdivorced       \n",
      "\t-0.2508\tmarried        \t\t0.1113\tdec            \n",
      "\t-0.2343\tyes            \t\t0.0432\tno             \n",
      "\t-0.1655\thousemaid      \t\t0.0427\tfeb            \n",
      "\t-0.1413\tcampaign       \t\t0.0328\ttechnician     \n",
      "\t-0.1284\tapr            \t\t0.0115\tday            \n"
     ]
    }
   ],
   "source": [
    "def show_most_informative_features(feature_names, clf, n=20):\n",
    "    coefs_with_fns = sorted(zip(clf.coef_[0], feature_names))\n",
    "    top = zip(coefs_with_fns[:n], coefs_with_fns[:-(n + 1):-1])\n",
    "    for (coef_1, fn_1), (coef_2, fn_2) in top:\n",
    "        print('\\t%.4f\\t%-15s\\t\\t%.4f\\t%-15s' % (coef_1, fn_1, coef_2, fn_2))\n",
    "\n",
    "model = LogisticRegression()\n",
    "model.fit(X, y)\n",
    "show_most_informative_features(attributes, model)"
   ]
  },
  {
   "cell_type": "markdown",
   "metadata": {},
   "source": [
    "### PCA\n",
    "To reduce dimensionality and speed up learning process we can use PCA to reduce number of features. If reduced too much it will reduce expressivenes of the data and we might lose performance."
   ]
  },
  {
   "cell_type": "code",
   "execution_count": 6,
   "metadata": {
    "collapsed": false
   },
   "outputs": [
    {
     "name": "stdout",
     "output_type": "stream",
     "text": [
      "Num features before: 51\n",
      "Num features after: 10\n"
     ]
    }
   ],
   "source": [
    "print('Num features before: %d'% X.shape[1])\n",
    "\n",
    "pca = PCA(n_components=10)\n",
    "X = pca.fit_transform(X)\n",
    "X_q = pca.transform(X_q)\n",
    "\n",
    "print('Num features after: %d'% X.shape[1])"
   ]
  },
  {
   "cell_type": "markdown",
   "metadata": {},
   "source": [
    "### k-NN elbow method\n",
    "Simple elbow method to determine which K to use when using k-NN."
   ]
  },
  {
   "cell_type": "code",
   "execution_count": 7,
   "metadata": {
    "collapsed": false
   },
   "outputs": [
    {
     "data": {
      "image/png": "[encoded data removed]",
      "text/plain": [
       "<matplotlib.figure.Figure at 0x24ecbc1cfd0>"
      ]
     },
     "metadata": {},
     "output_type": "display_data"
    }
   ],
   "source": [
    "Ks = range(1, 30)\n",
    "scores = []\n",
    "\n",
    "for K in Ks:\n",
    "    model = KNeighborsClassifier(n_neighbors=K)\n",
    "    model.fit(X, y)\n",
    "    scores.append(model.score(X, y))\n",
    "\n",
    "plt.figure(figsize=(8, 8))\n",
    "plt.plot(Ks, scores)\n",
    "plt.title('Elbow method')\n",
    "plt.xlabel('$K$')\n",
    "plt.ylabel('$score$')\n",
    "plt.show()"
   ]
  },
  {
   "cell_type": "markdown",
   "metadata": {},
   "source": [
    "It seems it is best to have K 1 or 2, because any bigger K leads to big performance loss."
   ]
  },
  {
   "cell_type": "markdown",
   "metadata": {},
   "source": [
    "### Decision tree max depth\n",
    "Plotting score depending on max_depth to determine which value of hyperparameter max_depth to use later."
   ]
  },
  {
   "cell_type": "code",
   "execution_count": 8,
   "metadata": {
    "collapsed": false
   },
   "outputs": [
    {
     "data": {
      "image/png": "[encoded data removed]",
      "text/plain": [
       "<matplotlib.figure.Figure at 0x24ecc95b780>"
      ]
     },
     "metadata": {},
     "output_type": "display_data"
    }
   ],
   "source": [
    "depths = range(1, 30)\n",
    "scores = []\n",
    "\n",
    "for depth in depths:\n",
    "    model = DecisionTreeClassifier(max_depth=depth)\n",
    "    model.fit(X, y)\n",
    "    scores.append(model.score(X, y))\n",
    "\n",
    "plt.figure(figsize=(8, 8))\n",
    "plt.plot(depths, scores)\n",
    "plt.title('Elbow method')\n",
    "plt.xlabel('$depth$')\n",
    "plt.ylabel('$score$')\n",
    "plt.show()"
   ]
  },
  {
   "cell_type": "markdown",
   "metadata": {},
   "source": [
    "I will later use max_depth of 20 because it still greatly impacts performance, any bigger max_depth will not improve performance as much, and might lead to overfitting."
   ]
  },
  {
   "cell_type": "markdown",
   "metadata": {},
   "source": [
    "### Accuracy on training data\n",
    "Here I am calculating accuracy on training data for three different classifiers."
   ]
  },
  {
   "cell_type": "code",
   "execution_count": 9,
   "metadata": {
    "collapsed": false
   },
   "outputs": [
    {
     "name": "stdout",
     "output_type": "stream",
     "text": [
      " Logistic Regression accuracy: 0.80\n",
      "K-Nearest Neighbours accuracy: 1.00\n",
      "       Decision Tree accuracy: 1.00\n"
     ]
    }
   ],
   "source": [
    "names = ['Logistic Regression', 'K-Nearest Neighbours', 'Decision Tree']\n",
    "\n",
    "classifiers = [\n",
    "    LogisticRegression(),\n",
    "    KNeighborsClassifier(n_neighbors=2),\n",
    "    DecisionTreeClassifier(max_depth=18)\n",
    "]\n",
    "\n",
    "for name, clf in zip(names, classifiers):\n",
    "    clf.fit(X, y)\n",
    "    y_pred = clf.predict(X)\n",
    "    accuracy = accuracy_score(y, y_pred)\n",
    "    print('%20s accuracy: %.2f' % (name, np.mean(accuracy)))"
   ]
  },
  {
   "cell_type": "markdown",
   "metadata": {},
   "source": [
    "### Cross validation accuracy\n",
    "Here I am using 10-fold cross validation to determine accuracies of same classifiers."
   ]
  },
  {
   "cell_type": "code",
   "execution_count": 10,
   "metadata": {
    "collapsed": false
   },
   "outputs": [
    {
     "name": "stdout",
     "output_type": "stream",
     "text": [
      " Logistic Regression accuracy: 0.79\n",
      "K-Nearest Neighbours accuracy: 0.94\n",
      "       Decision Tree accuracy: 0.95\n"
     ]
    }
   ],
   "source": [
    "n_splits = 10\n",
    "\n",
    "kf = KFold(n_splits)\n",
    "\n",
    "names = ['Logistic Regression', 'K-Nearest Neighbours', 'Decision Tree']\n",
    "\n",
    "classifiers = [\n",
    "    LogisticRegression(),\n",
    "    KNeighborsClassifier(n_neighbors=2),\n",
    "    DecisionTreeClassifier(max_depth=20)\n",
    "]\n",
    "\n",
    "accuracies = [[], [], []]\n",
    "\n",
    "for train_index, test_index in kf.split(X):\n",
    "    X_train, X_test = X[train_index], X[test_index]\n",
    "    y_train, y_test = y[train_index], y[test_index]\n",
    "    \n",
    "    for clf, acc in zip(classifiers, accuracies):\n",
    "        clf.fit(X_train, y_train)\n",
    "        y_pred = clf.predict(X_test)\n",
    "        accuracy = accuracy_score(y_test, y_pred)\n",
    "        acc.append(accuracy)\n",
    "\n",
    "for name, acc in zip(names, accuracies):\n",
    "    print('%20s accuracy: %.2f' % (name, np.mean(acc)))"
   ]
  },
  {
   "cell_type": "markdown",
   "metadata": {},
   "source": [
    "### 1. What is the expected classification accuracy of the default classifier (one which chooses the most common class)?\n",
    "If this classifier decides by choosing the class with biggest apriori probability I think it's accuracy would be $$\\frac{1}{n_classes}$$ because I believe distribution is uniform. So, in this case the accuracy would be 0.5, which is bad."
   ]
  },
  {
   "cell_type": "markdown",
   "metadata": {},
   "source": [
    "### 2. Evaluate the accuracy (measured as correctly classified instances percentage) of the models produced by the classification algorithms you know (logistic regression, k-NN, and decision trees) using the training set and 10-fold cross validation. Explain the difference between the two accuracies.\n",
    "As we've seen above, training set accuracies tend to be higher, because we are testing accuracies on set of data we trained on. This is not always informative as it does not prove our model learned to generalize, it can just mean it learned training data too good (that it has overfitted)."
   ]
  },
  {
   "cell_type": "markdown",
   "metadata": {},
   "source": [
    "### 3. Using 10-fold cross validation which of the classification algorithms you know has better accuracy?\n",
    "Looking at the results from above, Decision Tree classifier shows best results with accuracy of 95%."
   ]
  },
  {
   "cell_type": "markdown",
   "metadata": {},
   "source": [
    "### 4. What are the 5 attributes most influential attributes for campaign success?\n",
    "Judging by results from above 5 most informative attributes (from most informative to less informative) seem to be is a person: retired, student, entrepreneur, admin. or a blue-collar."
   ]
  },
  {
   "cell_type": "markdown",
   "metadata": {},
   "source": [
    "### 5. What is your prediction for two people with the following characteristics for Age, job, marital, education, default, balance, housing, loan, contact, day, month, duration, campaign, pdays, previous, poutcome:\n",
    "*Person1: 66, retired, married, primary, no, 206, no, no, cellular, 9, feb, 479, 1, R1, 0, unknown<br>\n",
    "Person2: 54, technician, married, tertiary, no, 876, no, no, cellular, 27, oct, 269, 3, 541, 3, success*"
   ]
  },
  {
   "cell_type": "code",
   "execution_count": 11,
   "metadata": {
    "collapsed": false
   },
   "outputs": [
    {
     "name": "stdout",
     "output_type": "stream",
     "text": [
      "['yes' 'yes']\n"
     ]
    }
   ],
   "source": [
    "model = classifiers[2]\n",
    "y_pred = model.predict(X_q)\n",
    "print(y_pred)"
   ]
  },
  {
   "cell_type": "markdown",
   "metadata": {},
   "source": [
    "Using pretrained decision tree classifier on already transformed data I would classify both examples as yes."
   ]
  }
 ],
 "metadata": {
  "anaconda-cloud": {},
  "kernelspec": {
   "display_name": "Python 3",
   "language": "python",
   "name": "python3"
  },
  "language_info": {
   "codemirror_mode": {
    "name": "ipython",
    "version": 3
   },
   "file_extension": ".py",
   "mimetype": "text/x-python",
   "name": "python",
   "nbconvert_exporter": "python",
   "pygments_lexer": "ipython3",
   "version": "3.6.3"
  }
 },
 "nbformat": 4,
 "nbformat_minor": 1
}
